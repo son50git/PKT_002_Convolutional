{
  "nbformat": 4,
  "nbformat_minor": 0,
  "metadata": {
    "colab": {
      "name": "PKT_002_MNIST.ipynb",
      "provenance": [],
      "authorship_tag": "ABX9TyNa4bj5lJGoWgvVLYaKZRjS",
      "include_colab_link": true
    },
    "kernelspec": {
      "name": "python3",
      "display_name": "Python 3"
    }
  },
  "cells": [
    {
      "cell_type": "markdown",
      "metadata": {
        "id": "view-in-github",
        "colab_type": "text"
      },
      "source": [
        "<a href=\"https://colab.research.google.com/github/son50git/PKT_002_Convolutional/blob/master/PKT_002_MNIST.ipynb\" target=\"_parent\"><img src=\"https://colab.research.google.com/assets/colab-badge.svg\" alt=\"Open In Colab\"/></a>"
      ]
    },
    {
      "cell_type": "code",
      "metadata": {
        "id": "EeNN8Yx_2JWh"
      },
      "source": [
        "# Import Numpy, keras and MNIST data\n",
        "import numpy as np\n",
        "import matplotlib.pyplot as plt\n",
        "\n",
        "from keras.datasets import mnist\n",
        "from keras.models import Sequential\n",
        "from keras.layers.core import Dense, Dropout, Activation\n",
        "from keras.utils import np_utils\n",
        "from keras.utils.np_utils import to_categorical"
      ],
      "execution_count": 64,
      "outputs": []
    },
    {
      "cell_type": "code",
      "metadata": {
        "id": "c5PD4vW-2Thx",
        "outputId": "9401f45a-af6e-4a44-9cc8-b51b6cba143e",
        "colab": {
          "base_uri": "https://localhost:8080/"
        }
      },
      "source": [
        "# Retrieve the training and test data\n",
        "(X_train, y_train), (X_test, y_test) = mnist.load_data()\n",
        "\n",
        "print('X_train shape:', X_train.shape)\n",
        "print('X_test shape: ', X_test.shape)\n",
        "print('y_train shape:',y_train.shape)\n",
        "print('y_test shape: ', y_test.shape)"
      ],
      "execution_count": 65,
      "outputs": [
        {
          "output_type": "stream",
          "text": [
            "X_train shape: (60000, 28, 28)\n",
            "X_test shape:  (10000, 28, 28)\n",
            "y_train shape: (60000,)\n",
            "y_test shape:  (10000,)\n"
          ],
          "name": "stdout"
        }
      ]
    },
    {
      "cell_type": "code",
      "metadata": {
        "id": "l7alCPNa2cue"
      },
      "source": [
        "# Visualizing the data\n",
        "import matplotlib.pyplot as plt\n",
        "%matplotlib inline"
      ],
      "execution_count": 66,
      "outputs": []
    },
    {
      "cell_type": "code",
      "metadata": {
        "id": "1G_7aY1Q4b0X"
      },
      "source": [
        "# y_train.shape  # (60000,)\n",
        "# y_train[0].shape # ()\n",
        "# len(y_train[0]). # ERROR\n",
        "# y_train[0] # 5\n",
        "# y_train[0].argmax(axis=0) # 0\n",
        "# y_train[0].argmax(axis=1) # ERROR"
      ],
      "execution_count": 67,
      "outputs": []
    },
    {
      "cell_type": "code",
      "metadata": {
        "id": "ukbrvMa_4flN"
      },
      "source": [
        "# X_train.shape # (60000, 28, 28)\n",
        "# X_train[0] # array of 28 x 28\n",
        "\n",
        "# array([[  0,   0,   0,   0,   0,   0,   0,   0,   0,   0,   0,   0,   0,\n",
        "#           0,   0,   0,   0,   0,   0,   0,   0,   0,   0,   0,   0,   0,\n",
        "#          0,   0],\n",
        "#        [  0,   0,   0,   0,   0,   0,   0,   0,   0,   0,   0,   0,   0,\n",
        "#           0,   0,   0,   0,   0,   0,   0,   0,   0,   0,   0,   0,   0,\n",
        "#           0,   0],\n",
        "#        [  0,   0,   0,   0,   0,   0,   0,   0,   0,   0,   0,   0,   0,\n",
        "#           0,   0,   0,   0,   0,   0,   0,   0,   0,   0,   0,   0,   0,\n",
        "#           0,   0],\n",
        "#       [  0,   0,   0,   0,   0,   0,   0,   0,   0,   0,   0,   0,   0,\n",
        "#          0,   0,   0,   0,   0,   0,   0,   0,   0,   0,   0,   0,   0,\n",
        "#          0,   0],\n",
        "#       [  0,   0,   0,   0,   0,   0,   0,   0,   0,   0,   0,   0,   0,\n",
        "#          0,   0,   0,   0,   0,   0,   0,   0,   0,   0,   0,   0,   0,\n",
        "#          0,   0],\n",
        "#       [  0,   0,   0,   0,   0,   0,   0,   0,   0,   0,   0,   0,   3,\n",
        "#        18,  18,  18, 126, 136, 175,  26, 166, 255, 247, 127,   0,   0,\n",
        "#          0,   0],\n",
        "#      [  0,   0,   0,   0,   0,   0,   0,   0,  30,  36,  94, 154, 170,\n",
        "#        253, 253, 253, 253, 253, 225, 172, 253, 242, 195,  64,   0,   0,\n",
        "#          0,   0],\n",
        "#      [  0,   0,   0,   0,   0,   0,   0,  49, 238, 253, 253, 253, 253,\n",
        "#       253, 253, 253, 253, 251,  93,  82,  82,  56,  39,   0,   0,   0,"
      ],
      "execution_count": 68,
      "outputs": []
    },
    {
      "cell_type": "code",
      "metadata": {
        "id": "11YdQeFq2hAR"
      },
      "source": [
        "# Function for displaying a training image by it's index in the MNIST set\n",
        "def display_digit(index):\n",
        "    label = y_train[index].argmax(axis=0) # what is the label for?\n",
        "    image = X_train[index]\n",
        "    plt.title('Training data, index: %d,  Label: %d' % (index, label))\n",
        "    plt.imshow(image, cmap='gray_r')\n",
        "    plt.show()"
      ],
      "execution_count": 69,
      "outputs": []
    },
    {
      "cell_type": "code",
      "metadata": {
        "id": "_tXsTrc12q5Q",
        "outputId": "83889c48-3498-4786-beeb-ed5182ff716c",
        "colab": {
          "base_uri": "https://localhost:8080/",
          "height": 281
        }
      },
      "source": [
        "# Display the first (index 0) training image\n",
        "display_digit(0)"
      ],
      "execution_count": 70,
      "outputs": [
        {
          "output_type": "display_data",
          "data": {
            "image/png": "[encoded data removed]",
            "text/plain": [
              "<Figure size 432x288 with 1 Axes>"
            ]
          },
          "metadata": {
            "tags": [],
            "needs_background": "light"
          }
        }
      ]
    },
    {
      "cell_type": "code",
      "metadata": {
        "id": "hOQQLa2t5HdK",
        "outputId": "fc8e4525-5488-44d2-82f5-9ac12331685e",
        "colab": {
          "base_uri": "https://localhost:8080/",
          "height": 281
        }
      },
      "source": [
        "display_digit(10)"
      ],
      "execution_count": 71,
      "outputs": [
        {
          "output_type": "display_data",
          "data": {
            "image/png": "[encoded data removed]",
            "text/plain": [
              "<Figure size 432x288 with 1 Axes>"
            ]
          },
          "metadata": {
            "tags": [],
            "needs_background": "light"
          }
        }
      ]
    },
    {
      "cell_type": "code",
      "metadata": {
        "id": "nFTXCXZq5Ri8",
        "outputId": "1f2f0957-a513-480a-d116-f3d405be8124",
        "colab": {
          "base_uri": "https://localhost:8080/"
        }
      },
      "source": [
        "X_train = X_train.reshape(60000, 784)\n",
        "X_test = X_test.reshape(10000, 784)\n",
        "X_train = X_train.astype('float32')\n",
        "X_test = X_test.astype('float32')\n",
        "X_train /= 255\n",
        "X_test /= 255\n",
        "\n",
        "print(\"Training matrix shape\", X_train.shape)\n",
        "print(\"Testing matrix shape\", X_test.shape)"
      ],
      "execution_count": 72,
      "outputs": [
        {
          "output_type": "stream",
          "text": [
            "Training matrix shape (60000, 784)\n",
            "Testing matrix shape (10000, 784)\n"
          ],
          "name": "stdout"
        }
      ]
    },
    {
      "cell_type": "code",
      "metadata": {
        "id": "xT-Xlqirgghb",
        "outputId": "2c97da45-01d9-47d3-c3e6-1fbc04433805",
        "colab": {
          "base_uri": "https://localhost:8080/"
        }
      },
      "source": [
        "tmp = y_train\n",
        "# print(tmp[0]) # 5\n",
        "tmp = to_categorical(tmp, 10)\n",
        "print(tmp[0]) # [0. 0. 0. 0. 0. 1. 0. 0. 0. 0.]"
      ],
      "execution_count": 73,
      "outputs": [
        {
          "output_type": "stream",
          "text": [
            "[0. 0. 0. 0. 0. 1. 0. 0. 0. 0.]\n"
          ],
          "name": "stdout"
        }
      ]
    },
    {
      "cell_type": "code",
      "metadata": {
        "id": "_YDVrckG6WSJ",
        "outputId": "7dc0c701-e293-42f3-a97f-6f84b9a86ad1",
        "colab": {
          "base_uri": "https://localhost:8080/"
        }
      },
      "source": [
        "#One Hot encoding of labels.\n",
        "\n",
        "print(y_train.shape)\n",
        "y_train = to_categorical(y_train, 10)\n",
        "y_test = to_categorical(y_test, 10)\n",
        "print(y_train.shape)"
      ],
      "execution_count": 74,
      "outputs": [
        {
          "output_type": "stream",
          "text": [
            "(60000,)\n",
            "(60000, 10)\n"
          ],
          "name": "stdout"
        }
      ]
    },
    {
      "cell_type": "code",
      "metadata": {
        "id": "Q5NxaFEd6oOQ"
      },
      "source": [
        "# Define the neural network\n",
        "def build_model():\n",
        "    model = Sequential()\n",
        "\n",
        "    model.add(Dense(512, input_shape=(784,)))    # why 512(??) # 784 = 28 x 28\n",
        "    model.add(Activation('relu')) # An \"activation\" is just a non-linear function applied to the output\n",
        "                              # of the layer above. Here, with a \"rectified linear unit\",\n",
        "                              # we clamp all values below 0 to 0.\n",
        "    model.add(Dropout(0.2))   # Dropout helps protect the model from memorizing or \"overfitting\" the training data\n",
        "\n",
        "    model.add(Dense(512))\n",
        "    model.add(Activation('relu'))\n",
        "    model.add(Dropout(0.2))\n",
        "\n",
        "    model.add(Dense(10))\n",
        "    model.add(Activation('softmax')) # This special \"softmax\" activation among other things,\n",
        "                                 # ensures the output is a valid probaility distribution, that is\n",
        "                                 # that its values are all non-negative and sum to 1.\n",
        "    return model\n",
        "\n",
        "# Build the model\n",
        "model = build_model()"
      ],
      "execution_count": 75,
      "outputs": []
    },
    {
      "cell_type": "code",
      "metadata": {
        "id": "sOegh0y76vNB"
      },
      "source": [
        "model.compile(optimizer='rmsprop', loss='categorical_crossentropy', metrics=['accuracy'])"
      ],
      "execution_count": 76,
      "outputs": []
    },
    {
      "cell_type": "code",
      "metadata": {
        "id": "ZEYtl6TH61Cx"
      },
      "source": [
        "# model.fit(X_train, y_train, batch_size=128, epochs=4, verbose=1, validation_data=(X_test, y_test)) # validation_test, optional\n",
        "# score = model.evaluate(X_test, y_test, batch_size=32, verbose=1, sample_weight=None)  # type(socre), list # len(score), 2 # redundant info with validation_date part above\n",
        "\n",
        "# print('Test score:', score[0])\n",
        "# print('Test accuracy:', score[1])\n",
        "\n",
        "# Epoch 1/4\n",
        "# 469/469 [==============================] - 8s 17ms/step - loss: 0.2459 - accuracy: 0.9235 - val_loss: 0.1098 - val_accuracy: 0.9660\n",
        "# Epoch 2/4\n",
        "# 469/469 [==============================] - 8s 17ms/step - loss: 0.1037 - accuracy: 0.9677 - val_loss: 0.1091 - val_accuracy: 0.9668\n",
        "# Epoch 3/4\n",
        "# 469/469 [==============================] - 8s 17ms/step - loss: 0.0750 - accuracy: 0.9774 - val_loss: 0.0979 - val_accuracy: 0.9710\n",
        "# Epoch 4/4\n",
        "# 469/469 [==============================] - 8s 17ms/step - loss: 0.0600 - accuracy: 0.9820 - val_loss: 0.0828 - val_accuracy: 0.9774\n",
        "# 313/313 [==============================] - 1s 2ms/step - loss: 0.0828 - accuracy: 0.9774\n",
        "\n",
        "# Test score: 0.08279212564229965\n",
        "# Test accuracy: 0.977400004863739"
      ],
      "execution_count": 77,
      "outputs": []
    },
    {
      "cell_type": "code",
      "metadata": {
        "id": "ug_u5cY9m5F2",
        "outputId": "6c73514f-8477-4c4b-d382-b83870805064",
        "colab": {
          "base_uri": "https://localhost:8080/"
        }
      },
      "source": [
        "model.fit(X_train, y_train, batch_size=128, epochs=4, verbose=1) # validation_test, optional\n",
        "score = model.evaluate(X_test, y_test, batch_size=32, verbose=1, sample_weight=None)  # type(socre), list # len(score), 2 # redundant info with validation_date part above\n",
        "\n",
        "print('Test score:', score[0])\n",
        "print('Test accuracy:', score[1])"
      ],
      "execution_count": 78,
      "outputs": [
        {
          "output_type": "stream",
          "text": [
            "Epoch 1/4\n",
            "469/469 [==============================] - 7s 16ms/step - loss: 0.2442 - accuracy: 0.9242\n",
            "Epoch 2/4\n",
            "469/469 [==============================] - 8s 16ms/step - loss: 0.1025 - accuracy: 0.9695\n",
            "Epoch 3/4\n",
            "469/469 [==============================] - 8s 16ms/step - loss: 0.0757 - accuracy: 0.9774\n",
            "Epoch 4/4\n",
            "469/469 [==============================] - 8s 16ms/step - loss: 0.0602 - accuracy: 0.9823\n",
            "313/313 [==============================] - 1s 2ms/step - loss: 0.0806 - accuracy: 0.9780\n",
            "Test score: 0.08061722666025162\n",
            "Test accuracy: 0.9779999852180481\n"
          ],
          "name": "stdout"
        }
      ]
    }
  ]
}